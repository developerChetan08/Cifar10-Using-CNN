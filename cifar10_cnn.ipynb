{
 "cells": [
  {
   "cell_type": "code",
   "execution_count": 1,
   "id": "d27350bd",
   "metadata": {},
   "outputs": [
    {
     "name": "stderr",
     "output_type": "stream",
     "text": [
      "C:\\Users\\hp\\anaconda3\\lib\\site-packages\\scipy\\__init__.py:155: UserWarning: A NumPy version >=1.18.5 and <1.25.0 is required for this version of SciPy (detected version 1.26.2\n",
      "  warnings.warn(f\"A NumPy version >={np_minversion} and <{np_maxversion}\"\n"
     ]
    },
    {
     "name": "stdout",
     "output_type": "stream",
     "text": [
      "WARNING:tensorflow:From C:\\Users\\hp\\anaconda3\\lib\\site-packages\\keras\\src\\losses.py:2976: The name tf.losses.sparse_softmax_cross_entropy is deprecated. Please use tf.compat.v1.losses.sparse_softmax_cross_entropy instead.\n",
      "\n"
     ]
    }
   ],
   "source": [
    "import tensorflow as tf\n",
    "from tensorflow.keras.datasets import cifar10\n",
    "from tensorflow.keras.models import Sequential\n",
    "from tensorflow.keras.layers import Conv2D,MaxPooling2D,Flatten,Dense"
   ]
  },
  {
   "cell_type": "code",
   "execution_count": 2,
   "id": "f50d5993",
   "metadata": {},
   "outputs": [],
   "source": [
    "(tr_img,tr_lab),(te_img,te_lab) = cifar10.load_data()"
   ]
  },
  {
   "cell_type": "code",
   "execution_count": 3,
   "id": "01f545c9",
   "metadata": {},
   "outputs": [],
   "source": [
    "tr_img = tr_img/255.0\n",
    "te_img = te_img/255.0"
   ]
  },
  {
   "cell_type": "code",
   "execution_count": 4,
   "id": "c66959b9",
   "metadata": {},
   "outputs": [
    {
     "name": "stdout",
     "output_type": "stream",
     "text": [
      "WARNING:tensorflow:From C:\\Users\\hp\\anaconda3\\lib\\site-packages\\keras\\src\\backend.py:873: The name tf.get_default_graph is deprecated. Please use tf.compat.v1.get_default_graph instead.\n",
      "\n",
      "WARNING:tensorflow:From C:\\Users\\hp\\anaconda3\\lib\\site-packages\\keras\\src\\layers\\pooling\\max_pooling2d.py:161: The name tf.nn.max_pool is deprecated. Please use tf.nn.max_pool2d instead.\n",
      "\n"
     ]
    }
   ],
   "source": [
    "model = Sequential(([Conv2D(32,(3,3),activation='relu',input_shape=(32,32,3)),\n",
    "                     MaxPooling2D((2,2)),\n",
    "                     Conv2D(64,(3,3),activation='relu'),\n",
    "                     Conv2D(128,(3,3),activation='relu'),\n",
    "                     MaxPooling2D((2,2)),\n",
    "                     Flatten(),\n",
    "                     Dense(1000,activation='relu'),\n",
    "                     Dense(1000,activation='relu'),\n",
    "                     Dense(10,activation='softmax'),]))"
   ]
  },
  {
   "cell_type": "code",
   "execution_count": 5,
   "id": "e513e2bf",
   "metadata": {},
   "outputs": [
    {
     "name": "stdout",
     "output_type": "stream",
     "text": [
      "Model: \"sequential\"\n",
      "_________________________________________________________________\n",
      " Layer (type)                Output Shape              Param #   \n",
      "=================================================================\n",
      " conv2d (Conv2D)             (None, 30, 30, 32)        896       \n",
      "                                                                 \n",
      " max_pooling2d (MaxPooling2  (None, 15, 15, 32)        0         \n",
      " D)                                                              \n",
      "                                                                 \n",
      " conv2d_1 (Conv2D)           (None, 13, 13, 64)        18496     \n",
      "                                                                 \n",
      " conv2d_2 (Conv2D)           (None, 11, 11, 128)       73856     \n",
      "                                                                 \n",
      " max_pooling2d_1 (MaxPoolin  (None, 5, 5, 128)         0         \n",
      " g2D)                                                            \n",
      "                                                                 \n",
      " flatten (Flatten)           (None, 3200)              0         \n",
      "                                                                 \n",
      " dense (Dense)               (None, 1000)              3201000   \n",
      "                                                                 \n",
      " dense_1 (Dense)             (None, 1000)              1001000   \n",
      "                                                                 \n",
      " dense_2 (Dense)             (None, 10)                10010     \n",
      "                                                                 \n",
      "=================================================================\n",
      "Total params: 4305258 (16.42 MB)\n",
      "Trainable params: 4305258 (16.42 MB)\n",
      "Non-trainable params: 0 (0.00 Byte)\n",
      "_________________________________________________________________\n"
     ]
    }
   ],
   "source": [
    "model.summary()"
   ]
  },
  {
   "cell_type": "code",
   "execution_count": 6,
   "id": "3dd4bfb3",
   "metadata": {},
   "outputs": [
    {
     "name": "stdout",
     "output_type": "stream",
     "text": [
      "WARNING:tensorflow:From C:\\Users\\hp\\anaconda3\\lib\\site-packages\\keras\\src\\optimizers\\__init__.py:309: The name tf.train.Optimizer is deprecated. Please use tf.compat.v1.train.Optimizer instead.\n",
      "\n"
     ]
    }
   ],
   "source": [
    "model.compile(optimizer=\"sgd\",loss=\"sparse_categorical_crossentropy\",\n",
    "              metrics=[\"accuracy\"])"
   ]
  },
  {
   "cell_type": "code",
   "execution_count": 7,
   "id": "3c74f70d",
   "metadata": {},
   "outputs": [
    {
     "name": "stdout",
     "output_type": "stream",
     "text": [
      "Epoch 1/20\n",
      "WARNING:tensorflow:From C:\\Users\\hp\\anaconda3\\lib\\site-packages\\keras\\src\\utils\\tf_utils.py:492: The name tf.ragged.RaggedTensorValue is deprecated. Please use tf.compat.v1.ragged.RaggedTensorValue instead.\n",
      "\n",
      "WARNING:tensorflow:From C:\\Users\\hp\\anaconda3\\lib\\site-packages\\keras\\src\\engine\\base_layer_utils.py:384: The name tf.executing_eagerly_outside_functions is deprecated. Please use tf.compat.v1.executing_eagerly_outside_functions instead.\n",
      "\n",
      "1563/1563 [==============================] - 97s 61ms/step - loss: 2.0747 - accuracy: 0.2416 - val_loss: 1.8524 - val_accuracy: 0.3384\n",
      "Epoch 2/20\n",
      "1563/1563 [==============================] - 96s 61ms/step - loss: 1.6730 - accuracy: 0.3965 - val_loss: 1.5707 - val_accuracy: 0.4262\n",
      "Epoch 3/20\n",
      "1563/1563 [==============================] - 96s 61ms/step - loss: 1.4497 - accuracy: 0.4802 - val_loss: 1.3917 - val_accuracy: 0.4999\n",
      "Epoch 4/20\n",
      "1563/1563 [==============================] - 91s 58ms/step - loss: 1.3107 - accuracy: 0.5338 - val_loss: 1.2999 - val_accuracy: 0.5339\n",
      "Epoch 5/20\n",
      "1563/1563 [==============================] - 124s 79ms/step - loss: 1.1995 - accuracy: 0.5760 - val_loss: 1.1733 - val_accuracy: 0.5803\n",
      "Epoch 6/20\n",
      "1563/1563 [==============================] - 106s 68ms/step - loss: 1.1071 - accuracy: 0.6095 - val_loss: 1.1188 - val_accuracy: 0.6048\n",
      "Epoch 7/20\n",
      "1563/1563 [==============================] - 101s 64ms/step - loss: 1.0192 - accuracy: 0.6428 - val_loss: 1.1475 - val_accuracy: 0.5927\n",
      "Epoch 8/20\n",
      "1563/1563 [==============================] - 100s 64ms/step - loss: 0.9375 - accuracy: 0.6721 - val_loss: 1.1401 - val_accuracy: 0.6077\n",
      "Epoch 9/20\n",
      "1563/1563 [==============================] - 98s 63ms/step - loss: 0.8601 - accuracy: 0.7018 - val_loss: 1.0731 - val_accuracy: 0.6360\n",
      "Epoch 10/20\n",
      "1563/1563 [==============================] - 93s 60ms/step - loss: 0.7794 - accuracy: 0.7310 - val_loss: 0.9871 - val_accuracy: 0.6607\n",
      "Epoch 11/20\n",
      "1563/1563 [==============================] - 92s 59ms/step - loss: 0.7025 - accuracy: 0.7570 - val_loss: 1.0091 - val_accuracy: 0.6593\n",
      "Epoch 12/20\n",
      "1563/1563 [==============================] - 98s 63ms/step - loss: 0.6200 - accuracy: 0.7856 - val_loss: 1.0909 - val_accuracy: 0.6435\n",
      "Epoch 13/20\n",
      "1563/1563 [==============================] - 92s 59ms/step - loss: 0.5428 - accuracy: 0.8123 - val_loss: 1.0744 - val_accuracy: 0.6506\n",
      "Epoch 14/20\n",
      "1563/1563 [==============================] - 92s 59ms/step - loss: 0.4624 - accuracy: 0.8392 - val_loss: 1.0731 - val_accuracy: 0.6709\n",
      "Epoch 15/20\n",
      "1563/1563 [==============================] - 89s 57ms/step - loss: 0.3805 - accuracy: 0.8688 - val_loss: 1.1730 - val_accuracy: 0.6498\n",
      "Epoch 16/20\n",
      "1563/1563 [==============================] - 87s 56ms/step - loss: 0.3049 - accuracy: 0.8948 - val_loss: 1.1203 - val_accuracy: 0.6769\n",
      "Epoch 17/20\n",
      "1563/1563 [==============================] - 96s 62ms/step - loss: 0.2345 - accuracy: 0.9210 - val_loss: 1.2196 - val_accuracy: 0.6825\n",
      "Epoch 18/20\n",
      "1563/1563 [==============================] - 100s 64ms/step - loss: 0.1805 - accuracy: 0.9399 - val_loss: 1.3353 - val_accuracy: 0.6740\n",
      "Epoch 19/20\n",
      "1563/1563 [==============================] - 98s 63ms/step - loss: 0.1303 - accuracy: 0.9580 - val_loss: 1.7315 - val_accuracy: 0.6427\n",
      "Epoch 20/20\n",
      "1563/1563 [==============================] - 90s 57ms/step - loss: 0.0912 - accuracy: 0.9716 - val_loss: 1.5192 - val_accuracy: 0.6743\n",
      "313/313 [==============================] - 5s 17ms/step - loss: 1.5192 - accuracy: 0.6743\n",
      "Validation Acc: 67.43000149726868%\n"
     ]
    }
   ],
   "source": [
    "cnn_model = model.fit(tr_img,tr_lab,batch_size=32,epochs=20,validation_data=(te_img,te_lab))\n",
    "te_loss,te_acc = model.evaluate(te_img,te_lab)\n",
    "print(\"Validation Acc: {}%\".format(te_acc*100))"
   ]
  },
  {
   "cell_type": "code",
   "execution_count": 8,
   "id": "4585c158",
   "metadata": {},
   "outputs": [],
   "source": [
    "import numpy as np\n",
    "from PIL import Image\n",
    "from tensorflow.keras.preprocessing import image"
   ]
  },
  {
   "cell_type": "code",
   "execution_count": 9,
   "id": "ebbeca02",
   "metadata": {},
   "outputs": [
    {
     "name": "stdout",
     "output_type": "stream",
     "text": [
      "1/1 [==============================] - 0s 193ms/step\n",
      "The Given Image-> airplane\n"
     ]
    }
   ],
   "source": [
    "img = Image.open(\"deer.jpg\")\n",
    "img= img.resize((32,32))\n",
    "img = image.img_to_array(img)\n",
    "img = np.expand_dims(img,axis=0)\n",
    "classes = ['airplane','car','bird','cat','deer','dog','frog','horse','ship','truck']\n",
    "pred= model.predict(img)\n",
    "op=np.argmax(pred)\n",
    "print(f\"The Given Image-> {classes[op]}\")"
   ]
  },
  {
   "cell_type": "code",
   "execution_count": null,
   "id": "26034514",
   "metadata": {},
   "outputs": [],
   "source": []
  },
  {
   "cell_type": "code",
   "execution_count": null,
   "id": "7ba4065a",
   "metadata": {},
   "outputs": [],
   "source": []
  }
 ],
 "metadata": {
  "kernelspec": {
   "display_name": "Python 3 (ipykernel)",
   "language": "python",
   "name": "python3"
  },
  "language_info": {
   "codemirror_mode": {
    "name": "ipython",
    "version": 3
   },
   "file_extension": ".py",
   "mimetype": "text/x-python",
   "name": "python",
   "nbconvert_exporter": "python",
   "pygments_lexer": "ipython3",
   "version": "3.9.13"
  }
 },
 "nbformat": 4,
 "nbformat_minor": 5
}
